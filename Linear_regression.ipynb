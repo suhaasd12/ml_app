{
 "cells": [
  {
   "cell_type": "code",
   "execution_count": 1,
   "id": "bb0e920c-4bc0-4455-9996-4a3864eede46",
   "metadata": {},
   "outputs": [],
   "source": [
    "import numpy as np\n",
    "import pandas as pd\n",
    "import matplotlib.pyplot as plt\n",
    "from sklearn.model_selection import train_test_split\n",
    "from sklearn.preprocessing import StandardScaler\n",
    "from sklearn.linear_model import LinearRegression\n",
    "from sklearn.metrics import mean_squared_error, r2_score\n",
    "import joblib"
   ]
  },
  {
   "cell_type": "code",
   "execution_count": 2,
   "id": "ba423974-d9c2-4d1e-8087-61587b7c7546",
   "metadata": {},
   "outputs": [],
   "source": [
    "#Set random seed for reproducibility\n",
    "np.random.seed(42)"
   ]
  },
  {
   "cell_type": "markdown",
   "id": "6f28a303-2bef-4b57-b4e3-df24cba178ff",
   "metadata": {},
   "source": [
    "### Generate random data for hours studied (Feature1) and test scores (target)"
   ]
  },
  {
   "cell_type": "code",
   "execution_count": 3,
   "id": "2008f59b-3ceb-4f04-8336-236e3cc73709",
   "metadata": {},
   "outputs": [],
   "source": [
    "n_samples=500\n",
    "X1=np.random.uniform(1,10,n_samples) #Random hours studiied\n",
    "noise=np.random.uniform(0,5,n_samples) #Random noise\n",
    "y = 10 * X1 + noise #Linear relationship with noise"
   ]
  },
  {
   "cell_type": "markdown",
   "id": "df193c34-1322-4ec8-bb0d-fabba0ec1e5a",
   "metadata": {},
   "source": [
    "### Create a dataframe for easy manipulation"
   ]
  },
  {
   "cell_type": "code",
   "execution_count": 5,
   "id": "d93ce3c5-e99b-4637-a730-aa1e898d2cb1",
   "metadata": {},
   "outputs": [
    {
     "data": {
      "text/html": [
       "<div>\n",
       "<style scoped>\n",
       "    .dataframe tbody tr th:only-of-type {\n",
       "        vertical-align: middle;\n",
       "    }\n",
       "\n",
       "    .dataframe tbody tr th {\n",
       "        vertical-align: top;\n",
       "    }\n",
       "\n",
       "    .dataframe thead th {\n",
       "        text-align: right;\n",
       "    }\n",
       "</style>\n",
       "<table border=\"1\" class=\"dataframe\">\n",
       "  <thead>\n",
       "    <tr style=\"text-align: right;\">\n",
       "      <th></th>\n",
       "      <th>Hours_Studied</th>\n",
       "      <th>Test_Score</th>\n",
       "    </tr>\n",
       "  </thead>\n",
       "  <tbody>\n",
       "    <tr>\n",
       "      <th>0</th>\n",
       "      <td>4.370861</td>\n",
       "      <td>47.199419</td>\n",
       "    </tr>\n",
       "    <tr>\n",
       "      <th>1</th>\n",
       "      <td>9.556429</td>\n",
       "      <td>98.244769</td>\n",
       "    </tr>\n",
       "    <tr>\n",
       "      <th>2</th>\n",
       "      <td>7.587945</td>\n",
       "      <td>77.427093</td>\n",
       "    </tr>\n",
       "    <tr>\n",
       "      <th>3</th>\n",
       "      <td>6.387926</td>\n",
       "      <td>67.948239</td>\n",
       "    </tr>\n",
       "    <tr>\n",
       "      <th>4</th>\n",
       "      <td>2.404168</td>\n",
       "      <td>27.465334</td>\n",
       "    </tr>\n",
       "  </tbody>\n",
       "</table>\n",
       "</div>"
      ],
      "text/plain": [
       "   Hours_Studied  Test_Score\n",
       "0       4.370861   47.199419\n",
       "1       9.556429   98.244769\n",
       "2       7.587945   77.427093\n",
       "3       6.387926   67.948239\n",
       "4       2.404168   27.465334"
      ]
     },
     "execution_count": 5,
     "metadata": {},
     "output_type": "execute_result"
    }
   ],
   "source": [
    "data=pd.DataFrame({'Hours_Studied':X1,'Test_Score':y})\n",
    "data.head()"
   ]
  },
  {
   "cell_type": "markdown",
   "id": "f7fa333d-9f58-4997-8b4f-bc17503fe5b3",
   "metadata": {},
   "source": [
    "### Scatterplot to visualize the relationship"
   ]
  },
  {
   "cell_type": "code",
   "execution_count": 7,
   "id": "db8b21cc-6622-45d6-8a9b-a26f5491b6f0",
   "metadata": {},
   "outputs": [
    {
     "data": {
      "image/png": "[encoded data removed]",
      "text/plain": [
       "<Figure size 640x480 with 1 Axes>"
      ]
     },
     "metadata": {},
     "output_type": "display_data"
    }
   ],
   "source": [
    "plt.scatter(data['Hours_Studied'],data['Test_Score'])\n",
    "plt.title('Hourse Studied vs Test score')\n",
    "plt.xlabel('Hourse Studies')\n",
    "plt.ylabel('Test Score')\n",
    "plt.show()"
   ]
  },
  {
   "cell_type": "markdown",
   "id": "d3c1e4aa-2218-42e8-87b6-e68164bf33b6",
   "metadata": {},
   "source": [
    "### Check the correlation between features and target"
   ]
  },
  {
   "cell_type": "code",
   "execution_count": 8,
   "id": "9e6b9d14-b755-45da-b83e-c243000c99ff",
   "metadata": {},
   "outputs": [
    {
     "name": "stdout",
     "output_type": "stream",
     "text": [
      "               Hours_Studied  Test_Score\n",
      "Hours_Studied       1.000000    0.998595\n",
      "Test_Score          0.998595    1.000000\n"
     ]
    }
   ],
   "source": [
    "corr_matrix=data.corr()\n",
    "print(corr_matrix)"
   ]
  },
  {
   "cell_type": "markdown",
   "id": "19949449-eed8-40ba-a50f-0f536f44517b",
   "metadata": {},
   "source": [
    "### Split the dataset into independent variable(X) and dependent variable (Y)\n"
   ]
  },
  {
   "cell_type": "code",
   "execution_count": 9,
   "id": "57c34a61-0e6c-4531-8d5c-085b57d0c4fa",
   "metadata": {},
   "outputs": [],
   "source": [
    "X = data[['Hours_Studied']]\n",
    "y = data['Test_Score']\n",
    "\n",
    "#Split the dataset into training and  testing sets\n",
    "X_train,X_test,Y_train,Y_test = train_test_split(X,y,test_size=0.2, random_state=42)"
   ]
  },
  {
   "cell_type": "markdown",
   "id": "ecee1042-f00d-4011-8629-05ce5759567d",
   "metadata": {},
   "source": [
    "### Scale the feature using Standard scaler"
   ]
  },
  {
   "cell_type": "code",
   "execution_count": 10,
   "id": "462673f3-ffe2-4d72-b386-9367407d4c74",
   "metadata": {},
   "outputs": [],
   "source": [
    "scaler=StandardScaler()\n",
    "X_train_scaled = scaler.fit_transform(X_train)\n",
    "X_test_scaled = scaler.transform(X_test)"
   ]
  },
  {
   "cell_type": "markdown",
   "id": "77d8cdf0-c291-4cb0-9031-7a5c489ef43c",
   "metadata": {},
   "source": [
    "### Istantiate the linear regression model"
   ]
  },
  {
   "cell_type": "code",
   "execution_count": 11,
   "id": "d46421c8-db9d-4571-b641-8c538529f5a2",
   "metadata": {},
   "outputs": [
    {
     "name": "stdout",
     "output_type": "stream",
     "text": [
      "Coefficient:  [26.97855983]\n",
      "Intercept:  57.787854685905025\n"
     ]
    }
   ],
   "source": [
    "model=LinearRegression()\n",
    "\n",
    "#train the model on the training data\n",
    "model.fit(X_train_scaled,Y_train)\n",
    "\n",
    "#check the model's coefficients and intercepts\n",
    "print(\"Coefficient: \",model.coef_)\n",
    "print(\"Intercept: \",model.intercept_)"
   ]
  },
  {
   "cell_type": "markdown",
   "id": "336a1fb3-c1b8-4c1c-972f-f028c607470e",
   "metadata": {},
   "source": [
    "### Example of predicting a single value using a new data point\n"
   ]
  },
  {
   "cell_type": "code",
   "execution_count": 12,
   "id": "843670ad-51e8-479d-a22f-ab24904475b9",
   "metadata": {},
   "outputs": [],
   "source": [
    "new_data=np.array([[6]]) #example vlue for hours studied\n",
    "new_data_df=pd.DataFrame(new_data,columns=['Hours_Studied'])\n",
    "\n",
    "#scale the new data\n",
    "new_data_scaled=scaler.transform(new_data_df)"
   ]
  },
  {
   "cell_type": "markdown",
   "id": "f3c0fb3f-e0b5-4574-a4a3-81715d4d95fc",
   "metadata": {},
   "source": [
    "### Predict the test score"
   ]
  },
  {
   "cell_type": "code",
   "execution_count": 13,
   "id": "afac237e-5a09-41b2-b69c-8a0ddb9ae96e",
   "metadata": {},
   "outputs": [
    {
     "name": "stdout",
     "output_type": "stream",
     "text": [
      "Predicted Test score for 6 hours of study: 62.44647150651628\n"
     ]
    }
   ],
   "source": [
    "single_prediction = model.predict(new_data_scaled)\n",
    "print(f\"Predicted Test score for 6 hours of study: {single_prediction[0]}\")"
   ]
  },
  {
   "cell_type": "markdown",
   "id": "b8d36c04-e14e-4664-bed6-0033f19c003b",
   "metadata": {},
   "source": [
    "### Predict on the test set"
   ]
  },
  {
   "cell_type": "code",
   "execution_count": 14,
   "id": "228e95ec-73e0-4894-b778-ceb2c24f6fb5",
   "metadata": {},
   "outputs": [
    {
     "name": "stdout",
     "output_type": "stream",
     "text": [
      "Mean Squared Error: 1.9480032513511996\n",
      "R-Squared: 0.9971985571991646\n"
     ]
    }
   ],
   "source": [
    "y_pred = model.predict(X_test_scaled)\n",
    "\n",
    "#Calculate Mean Squared Error (MSE) and R-Squared\n",
    "mse = mean_squared_error(Y_test,y_pred)\n",
    "r2=r2_score(Y_test,y_pred)\n",
    "\n",
    "print(f\"Mean Squared Error: {mse}\")\n",
    "print(f\"R-Squared: {r2}\")"
   ]
  },
  {
   "cell_type": "markdown",
   "id": "2fd663fd-460a-46fb-8a6f-74d2c22ef584",
   "metadata": {},
   "source": [
    "### Save the trained model to a file"
   ]
  },
  {
   "cell_type": "code",
   "execution_count": 15,
   "id": "a4a33939-cdb5-4fda-b0b9-97781d83b200",
   "metadata": {},
   "outputs": [
    {
     "data": {
      "text/plain": [
       "['scaler.pkl']"
      ]
     },
     "execution_count": 15,
     "metadata": {},
     "output_type": "execute_result"
    }
   ],
   "source": [
    "joblib.dump(model,'linear_regression_model.pkl')\n",
    "joblib.dump(scaler,'scaler.pkl')"
   ]
  },
  {
   "cell_type": "markdown",
   "id": "4088a931-7e04-42e2-aa34-7b2cc2c5d710",
   "metadata": {},
   "source": [
    "### Load the saved model, scaler and preduct new data "
   ]
  },
  {
   "cell_type": "code",
   "execution_count": 16,
   "id": "8a36fe5a-b977-4d03-a289-44a3dc5ae8fa",
   "metadata": {},
   "outputs": [
    {
     "name": "stdout",
     "output_type": "stream",
     "text": [
      "Predicted test score for 6 hours of study: 62.44647150651628\n"
     ]
    }
   ],
   "source": [
    "loaded_model=joblib.load('linear_regression_model.pkl')\n",
    "loaded_scaler=joblib.load('scaler.pkl')\n",
    "\n",
    "new_data=np.array([[6]]) #example vlue for hours studied\n",
    "new_data_df=pd.DataFrame(new_data,columns=['Hours_Studied'])\n",
    "\n",
    "#scale the new data using the loaded scaler\n",
    "new_data_scaled=loaded_scaler.transform(new_data_df)\n",
    "\n",
    "#Make the prediction using the loaded model\n",
    "single_prediction = loaded_model.predict(new_data_scaled)\n",
    "\n",
    "#Output the predicted test score\n",
    "print(f\"Predicted test score for 6 hours of study: {single_prediction[0]}\")"
   ]
  },
  {
   "cell_type": "code",
   "execution_count": null,
   "id": "f72d66b8-9617-434d-9fd1-4add9c5f9931",
   "metadata": {},
   "outputs": [],
   "source": []
  }
 ],
 "metadata": {
  "kernelspec": {
   "display_name": "Python 3 (ipykernel)",
   "language": "python",
   "name": "python3"
  },
  "language_info": {
   "codemirror_mode": {
    "name": "ipython",
    "version": 3
   },
   "file_extension": ".py",
   "mimetype": "text/x-python",
   "name": "python",
   "nbconvert_exporter": "python",
   "pygments_lexer": "ipython3",
   "version": "3.10.13"
  }
 },
 "nbformat": 4,
 "nbformat_minor": 5
}
